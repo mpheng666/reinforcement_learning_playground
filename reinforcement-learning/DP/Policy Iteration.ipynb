{
 "cells": [
  {
   "cell_type": "code",
   "execution_count": 1,
   "metadata": {
    "collapsed": true
   },
   "outputs": [],
   "source": [
    "import numpy as np\n",
    "import pprint\n",
    "import sys\n",
    "if \"../\" not in sys.path:\n",
    "  sys.path.append(\"../\") \n",
    "from lib.envs.gridworld import GridworldEnv"
   ]
  },
  {
   "cell_type": "code",
   "execution_count": 2,
   "metadata": {
    "collapsed": true
   },
   "outputs": [
    {
     "name": "stdout",
     "output_type": "stream",
     "text": [
      "'env.nS = np.int64(16)'\n",
      "'env.nA = 4'\n",
      "'env.action_space = Discrete(4)'\n",
      "'env.observation_space = Discrete(16)'\n",
      "'env.shape = [4, 4]'\n",
      "'env.reward_range = (-inf, inf)'\n",
      "'env.spec = None'\n",
      "('env.P[0] = {0: [(1.0, 0, 0.0, True)], 1: [(1.0, 0, 0.0, True)], 2: [(1.0, 0, '\n",
      " '0.0, True)], 3: [(1.0, 0, 0.0, True)]}')\n"
     ]
    }
   ],
   "source": [
    "pp = pprint.PrettyPrinter(indent=2)\n",
    "env = GridworldEnv()\n",
    "pp.pprint(f'{env.nS = }')\n",
    "pp.pprint(f'{env.nA = }')\n",
    "pp.pprint(f'{env.action_space = }')\n",
    "pp.pprint(f'{env.observation_space = }')\n",
    "pp.pprint(f'{env.shape = }')\n",
    "pp.pprint(f'{env.reward_range = }')\n",
    "pp.pprint(f'{env.spec = }')\n",
    "pp.pprint(f'{env.P[0] = }')\n"
   ]
  },
  {
   "cell_type": "code",
   "execution_count": 3,
   "metadata": {
    "collapsed": true
   },
   "outputs": [],
   "source": [
    "def policy_eval(policy, env, discount_factor=1.0, theta=0.00001):\n",
    "    \"\"\"\n",
    "    Evaluate a policy given an environment and a full description of the environment's dynamics.\n",
    "    \n",
    "    Args:\n",
    "        policy: [S, A] shaped matrix representing the policy.\n",
    "        env: OpenAI env. env.P represents the transition probabilities of the environment.\n",
    "            env.P[s][a] is a list of transition tuples (prob, next_state, reward, done).\n",
    "            env.nS is a number of states in the environment. \n",
    "            env.nA is a number of actions in the environment.\n",
    "        theta: We stop evaluation once our value function change is less than theta for all states.\n",
    "        discount_factor: Gamma discount factor.\n",
    "\n",
    "    V(s)=s′∑​P(s′∣s,π(s))[R(s,π(s),s′)+γV(s′)]\n",
    "    \n",
    "    Returns:\n",
    "        Vector of length env.nS representing the value function.\n",
    "    \"\"\"\n",
    "    # Start with a random (all 0) value function\n",
    "    V = np.zeros(env.nS)\n",
    "    iteration = 0\n",
    "    while True:\n",
    "        iteration += 1\n",
    "        diff = 0\n",
    "        # for each action, do full backup\n",
    "        for s in range(env.nS):\n",
    "            current_v = 0\n",
    "            # for all possible next actions\n",
    "            for a, action_prob in enumerate(policy[s]):\n",
    "                # for each action, look at the reward and possible next state\n",
    "                for prob, ns, r, done in env.P[s][a]:\n",
    "                    # calculate the expected value\n",
    "                    current_v += action_prob * prob * (r + discount_factor * V[ns])\n",
    "            # check the max val change across all states\n",
    "            diff = max(diff, np.abs(current_v - V[s]))        \n",
    "            V[s] = current_v\n",
    "        # make sure the max val change is smaller than theta before we stop\n",
    "        if(diff < theta):\n",
    "            break\n",
    "    # pp.pprint(f'{V = }')\n",
    "    # pp.pprint(f'{iteration = }')\n",
    "    return np.array(V)"
   ]
  },
  {
   "cell_type": "code",
   "execution_count": 8,
   "metadata": {
    "collapsed": true
   },
   "outputs": [],
   "source": [
    "def policy_improvement(env, policy_eval_fn=policy_eval, discount_factor=1.0):\n",
    "    \"\"\"\n",
    "    Policy Improvement Algorithm. Iteratively evaluates and improves a policy\n",
    "    until an optimal policy is found.\n",
    "    \n",
    "    Args:\n",
    "        env: The OpenAI envrionment.\n",
    "        policy_eval_fn: Policy Evaluation function that takes 3 arguments:\n",
    "            policy, env, discount_factor.\n",
    "        discount_factor: gamma discount factor.\n",
    "        \n",
    "    Returns:\n",
    "        A tuple (policy, V). \n",
    "        policy is the optimal policy, a matrix of shape [S, A] where each state s\n",
    "        contains a valid probability distribution over actions.\n",
    "        V is the value function for the optimal policy.\n",
    "        \n",
    "    \"\"\"\n",
    "\n",
    "    # given state s, get how good it is for s if taking each action\n",
    "    def compute_action_values(V, s):\n",
    "        A = np.zeros(env.nA)\n",
    "        for a in range(env.nA):\n",
    "            for prob, ns, r, done in env.P[s][a]:\n",
    "                A[a] += prob * (r + discount_factor * V[ns])\n",
    "        return A\n",
    "\n",
    "    # Start with a random policy\n",
    "    policy = np.ones([env.nS, env.nA]) / env.nA\n",
    "    # pp.pprint(f'{policy = }')\n",
    "\n",
    "    while True:\n",
    "        # evaluate the current policy\n",
    "        V = policy_eval_fn(policy, env, discount_factor)\n",
    "        # assume policy is stable, update to false when there is a difference in the current policy with the previous policy\n",
    "        policy_stable = True\n",
    "\n",
    "        for s in range(env.nS):\n",
    "            # get current action with current policy\n",
    "            current_a = np.argmax(policy[s])\n",
    "            best_a = np.argmax(compute_action_values(V, s))\n",
    "\n",
    "            if current_a != best_a:\n",
    "                policy_stable = False\n",
    "\n",
    "            policy[s] = np.eye(env.nA)[best_a]\n",
    "            # pp.pprint(f'{policy = }')\n",
    "\n",
    "        if policy_stable:    \n",
    "            return policy, V"
   ]
  },
  {
   "cell_type": "code",
   "execution_count": 14,
   "metadata": {},
   "outputs": [
    {
     "name": "stdout",
     "output_type": "stream",
     "text": [
      "Time taken: 10.045170999546826 mseconds\n",
      "Policy Probability Distribution:\n",
      "[[1. 0. 0. 0.]\n",
      " [0. 0. 0. 1.]\n",
      " [0. 0. 0. 1.]\n",
      " [0. 0. 1. 0.]\n",
      " [1. 0. 0. 0.]\n",
      " [1. 0. 0. 0.]\n",
      " [1. 0. 0. 0.]\n",
      " [0. 0. 1. 0.]\n",
      " [1. 0. 0. 0.]\n",
      " [1. 0. 0. 0.]\n",
      " [0. 1. 0. 0.]\n",
      " [0. 0. 1. 0.]\n",
      " [1. 0. 0. 0.]\n",
      " [0. 1. 0. 0.]\n",
      " [0. 1. 0. 0.]\n",
      " [1. 0. 0. 0.]]\n",
      "\n",
      "Reshaped Grid Policy (0=up, 1=right, 2=down, 3=left):\n",
      "[[0 3 3 2]\n",
      " [0 0 0 2]\n",
      " [0 0 1 2]\n",
      " [0 1 1 0]]\n",
      "\n",
      "Value Function:\n",
      "[ 0. -1. -2. -3. -1. -2. -3. -2. -2. -3. -2. -1. -3. -2. -1.  0.]\n",
      "\n",
      "Reshaped Grid Value Function:\n",
      "[[ 0. -1. -2. -3.]\n",
      " [-1. -2. -3. -2.]\n",
      " [-2. -3. -2. -1.]\n",
      " [-3. -2. -1.  0.]]\n",
      "\n"
     ]
    }
   ],
   "source": [
    "import time\n",
    "start_time = time.perf_counter()\n",
    "policy, v = policy_improvement(env)\n",
    "end_time = time.perf_counter()\n",
    "print(f\"Time taken: {(end_time - start_time)*1000} mseconds\")\n",
    "\n",
    "print(\"Policy Probability Distribution:\")\n",
    "print(policy)\n",
    "print(\"\")\n",
    "\n",
    "print(\"Reshaped Grid Policy (0=up, 1=right, 2=down, 3=left):\")\n",
    "print(np.reshape(np.argmax(policy, axis=1), env.shape))\n",
    "print(\"\")\n",
    "\n",
    "print(\"Value Function:\")\n",
    "print(v)\n",
    "print(\"\")\n",
    "\n",
    "print(\"Reshaped Grid Value Function:\")\n",
    "print(v.reshape(env.shape))\n",
    "print(\"\")\n",
    "\n"
   ]
  },
  {
   "cell_type": "code",
   "execution_count": 11,
   "metadata": {},
   "outputs": [],
   "source": [
    "# Test the value function\n",
    "expected_v = np.array([ 0, -1, -2, -3, -1, -2, -3, -2, -2, -3, -2, -1, -3, -2, -1,  0])\n",
    "np.testing.assert_array_almost_equal(v, expected_v, decimal=2)"
   ]
  },
  {
   "cell_type": "code",
   "execution_count": null,
   "metadata": {
    "collapsed": true
   },
   "outputs": [],
   "source": []
  }
 ],
 "metadata": {
  "kernelspec": {
   "display_name": "env",
   "language": "python",
   "name": "python3"
  },
  "language_info": {
   "codemirror_mode": {
    "name": "ipython",
    "version": 3
   },
   "file_extension": ".py",
   "mimetype": "text/x-python",
   "name": "python",
   "nbconvert_exporter": "python",
   "pygments_lexer": "ipython3",
   "version": "3.10.12"
  }
 },
 "nbformat": 4,
 "nbformat_minor": 1
}
