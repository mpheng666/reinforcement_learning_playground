{
 "cells": [
  {
   "cell_type": "code",
   "execution_count": 2,
   "metadata": {
    "collapsed": true
   },
   "outputs": [],
   "source": [
    "import numpy as np\n",
    "import sys\n",
    "import pprint\n",
    "\n",
    "if \"../\" not in sys.path:\n",
    "  sys.path.append(\"../\") \n",
    "from lib.envs.gridworld import GridworldEnv"
   ]
  },
  {
   "cell_type": "code",
   "execution_count": 4,
   "metadata": {
    "collapsed": true
   },
   "outputs": [
    {
     "name": "stdout",
     "output_type": "stream",
     "text": [
      "'env.nS = np.int64(16)'\n",
      "'env.nA = 4'\n",
      "'env.action_space = Discrete(4)'\n",
      "'env.observation_space = Discrete(16)'\n",
      "'env.shape = [4, 4]'\n",
      "'env.reward_range = (-inf, inf)'\n",
      "'env.spec = None'\n",
      "('env.P[0] = {0: [(1.0, 0, 0.0, True)], 1: [(1.0, 0, 0.0, True)], 2: [(1.0, 0, '\n",
      " '0.0, True)], 3: [(1.0, 0, 0.0, True)]}')\n"
     ]
    }
   ],
   "source": [
    "pp = pprint.PrettyPrinter(indent=2)\n",
    "env = GridworldEnv()\n",
    "pp.pprint(f'{env.nS = }')\n",
    "pp.pprint(f'{env.nA = }')\n",
    "pp.pprint(f'{env.action_space = }')\n",
    "pp.pprint(f'{env.observation_space = }')\n",
    "pp.pprint(f'{env.shape = }')\n",
    "pp.pprint(f'{env.reward_range = }')\n",
    "pp.pprint(f'{env.spec = }')\n",
    "pp.pprint(f'{env.P[0] = }')\n"
   ]
  },
  {
   "cell_type": "code",
   "execution_count": 5,
   "metadata": {
    "collapsed": true
   },
   "outputs": [],
   "source": [
    "def policy_eval(policy, env, discount_factor=1.0, theta=0.00001):\n",
    "    \"\"\"\n",
    "    Evaluate a policy given an environment and a full description of the environment's dynamics.\n",
    "    \n",
    "    Args:\n",
    "        policy: [S, A] shaped matrix representing the policy.\n",
    "        env: OpenAI env. env.P represents the transition probabilities of the environment.\n",
    "            env.P[s][a] is a list of transition tuples (prob, next_state, reward, done).\n",
    "            env.nS is a number of states in the environment. \n",
    "            env.nA is a number of actions in the environment.\n",
    "        theta: We stop evaluation once our value function change is less than theta for all states.\n",
    "        discount_factor: Gamma discount factor.\n",
    "    \n",
    "    V(s)=s′∑​P(s′∣s,π(s))[R(s,π(s),s′)+γV(s′)]\n",
    "    \n",
    "    Returns:\n",
    "        Vector of length env.nS representing the value function.\n",
    "    \"\"\"\n",
    "    # Start with a random (all 0) value function\n",
    "    V = np.zeros(env.nS)\n",
    "    iteration = 0\n",
    "    while True:\n",
    "        iteration += 1\n",
    "        diff = 0\n",
    "        # for each action, do full backup\n",
    "        for s in range(env.nS):\n",
    "            current_v = 0\n",
    "            # for all possible next actions\n",
    "            for a, action_prob in enumerate(policy[s]):\n",
    "                # for each action, look at the reward and possible next state\n",
    "                for prob, ns, r, done in env.P[s][a]:\n",
    "                    # calculate the expected value\n",
    "                    current_v += action_prob * prob * (r + discount_factor * V[ns])\n",
    "            # check the max val change across all states\n",
    "            diff = max(diff, np.abs(current_v - V[s]))        \n",
    "            V[s] = current_v\n",
    "        # make sure the max val change is smaller than theta before we stop\n",
    "        if(diff < theta):\n",
    "            break\n",
    "    pp.pprint(np.array(V))\n",
    "    print(iteration)\n",
    "    return np.array(V)"
   ]
  },
  {
   "cell_type": "code",
   "execution_count": 6,
   "metadata": {
    "collapsed": true
   },
   "outputs": [
    {
     "name": "stdout",
     "output_type": "stream",
     "text": [
      "('random_policy = array([[0.25, 0.25, 0.25, 0.25],\\n'\n",
      " '       [0.25, 0.25, 0.25, 0.25],\\n'\n",
      " '       [0.25, 0.25, 0.25, 0.25],\\n'\n",
      " '       [0.25, 0.25, 0.25, 0.25],\\n'\n",
      " '       [0.25, 0.25, 0.25, 0.25],\\n'\n",
      " '       [0.25, 0.25, 0.25, 0.25],\\n'\n",
      " '       [0.25, 0.25, 0.25, 0.25],\\n'\n",
      " '       [0.25, 0.25, 0.25, 0.25],\\n'\n",
      " '       [0.25, 0.25, 0.25, 0.25],\\n'\n",
      " '       [0.25, 0.25, 0.25, 0.25],\\n'\n",
      " '       [0.25, 0.25, 0.25, 0.25],\\n'\n",
      " '       [0.25, 0.25, 0.25, 0.25],\\n'\n",
      " '       [0.25, 0.25, 0.25, 0.25],\\n'\n",
      " '       [0.25, 0.25, 0.25, 0.25],\\n'\n",
      " '       [0.25, 0.25, 0.25, 0.25],\\n'\n",
      " '       [0.25, 0.25, 0.25, 0.25]])')\n",
      "array([  0.        , -13.99330608, -19.99037659, -21.98940765,\n",
      "       -13.99330608, -17.99178568, -19.99108113, -19.99118312,\n",
      "       -19.99037659, -19.99108113, -17.99247411, -13.99438108,\n",
      "       -21.98940765, -19.99118312, -13.99438108,   0.        ])\n",
      "88\n"
     ]
    }
   ],
   "source": [
    "random_policy = np.ones([env.nS, env.nA]) / env.nA\n",
    "pp.pprint(f'{random_policy = }')\n",
    "v = policy_eval(random_policy, env, 1.0, 0.001)"
   ]
  },
  {
   "cell_type": "code",
   "execution_count": 70,
   "metadata": {},
   "outputs": [],
   "source": [
    "# Test: Make sure the evaluated policy is what we expected\n",
    "expected_v = np.array([0, -14, -20, -22, -14, -18, -20, -20, -20, -20, -18, -14, -22, -20, -14, 0])\n",
    "np.testing.assert_array_almost_equal(v, expected_v, decimal=2)"
   ]
  },
  {
   "cell_type": "code",
   "execution_count": 71,
   "metadata": {
    "collapsed": true
   },
   "outputs": [
    {
     "name": "stdout",
     "output_type": "stream",
     "text": [
      "(16,)\n",
      "[4, 4]\n",
      "[[  0.         -13.99330608 -19.99037659 -21.98940765]\n",
      " [-13.99330608 -17.99178568 -19.99108113 -19.99118312]\n",
      " [-19.99037659 -19.99108113 -17.99247411 -13.99438108]\n",
      " [-21.98940765 -19.99118312 -13.99438108   0.        ]]\n"
     ]
    }
   ],
   "source": [
    "print(v.shape)\n",
    "print(env.shape)\n",
    "print(v.reshape(env.shape))"
   ]
  },
  {
   "cell_type": "code",
   "execution_count": null,
   "metadata": {},
   "outputs": [],
   "source": []
  },
  {
   "cell_type": "code",
   "execution_count": null,
   "metadata": {},
   "outputs": [],
   "source": []
  }
 ],
 "metadata": {
  "kernelspec": {
   "display_name": "env",
   "language": "python",
   "name": "python3"
  },
  "language_info": {
   "codemirror_mode": {
    "name": "ipython",
    "version": 3
   },
   "file_extension": ".py",
   "mimetype": "text/x-python",
   "name": "python",
   "nbconvert_exporter": "python",
   "pygments_lexer": "ipython3",
   "version": "3.10.12"
  }
 },
 "nbformat": 4,
 "nbformat_minor": 1
}
